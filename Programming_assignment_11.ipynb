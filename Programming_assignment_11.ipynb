{
 "cells": [
  {
   "cell_type": "code",
   "execution_count": null,
   "id": "68d26e2d",
   "metadata": {},
   "outputs": [],
   "source": [
    "1. Write a Python program to find words which are greater than given length k?"
   ]
  },
  {
   "cell_type": "code",
   "execution_count": 22,
   "id": "bdd02811",
   "metadata": {},
   "outputs": [],
   "source": [
    "def word_len(x):\n",
    "    k = int(input('Provide the length of word  : '))\n",
    "    print('Words with length greater than ',k,'are :')\n",
    "    print('\\n')\n",
    "    x1 = x.split()\n",
    "    for i in x1:\n",
    "        if len(i) > k:\n",
    "            print(i)\n",
    "    "
   ]
  },
  {
   "cell_type": "code",
   "execution_count": 23,
   "id": "4520cc5b",
   "metadata": {},
   "outputs": [
    {
     "name": "stdout",
     "output_type": "stream",
     "text": [
      "Provide the length of word  : 4\n",
      "Words with length greater than  4 are :\n",
      "\n",
      "\n",
      "programme\n",
      "filter\n",
      "alphabet\n",
      "length\n"
     ]
    }
   ],
   "source": [
    "word_len('This is my programme to filter out alphabet of length more than k')"
   ]
  },
  {
   "cell_type": "code",
   "execution_count": null,
   "id": "9dc70f84",
   "metadata": {},
   "outputs": [],
   "source": [
    "2. Write a Python program for removing i-th character from a string?"
   ]
  },
  {
   "cell_type": "code",
   "execution_count": 36,
   "id": "d2472b78",
   "metadata": {},
   "outputs": [
    {
     "name": "stdout",
     "output_type": "stream",
     "text": [
      "Provide index value to eliminate29\n",
      "deleted value at index 29 is c\n",
      "This is my code to eliminate  \":\" haracter as per index value\n"
     ]
    }
   ],
   "source": [
    "x= 'This is my code to eliminate character as per index value'\n",
    "i = int(input('Provide index value to eliminate'))\n",
    "if i <= len(x):\n",
    "    x1 = x[:i]\n",
    "    x2 = x[i+1:]\n",
    "    print('deleted value at index',i,'is',x[i])\n",
    "    print(x1+' \":\" '+x2)\n",
    "    "
   ]
  },
  {
   "cell_type": "code",
   "execution_count": null,
   "id": "38042121",
   "metadata": {},
   "outputs": [],
   "source": [
    "3. Write a Python program to split and join a string?"
   ]
  },
  {
   "cell_type": "code",
   "execution_count": 29,
   "id": "f46ec6ee",
   "metadata": {},
   "outputs": [],
   "source": [
    "def split_join_str(x):\n",
    "    x ='This is my code to split and then join a string '\n",
    "    x1 = x.split()\n",
    "    print('splitted string is  : ',x1)\n",
    "    for i in x1:\n",
    "        print(' '.join(x1))\n",
    "        break\n"
   ]
  },
  {
   "cell_type": "code",
   "execution_count": null,
   "id": "acc2dee2",
   "metadata": {},
   "outputs": [],
   "source": [
    "4. Write a Python to check if a given string is binary string or not?"
   ]
  },
  {
   "cell_type": "code",
   "execution_count": 67,
   "id": "924c838a",
   "metadata": {},
   "outputs": [],
   "source": [
    "def bi_check_str(x):\n",
    "    x1 = set(x)\n",
    "    s ={'0','1'}\n",
    "    if s == x1 or x1 =={'0'} or x1 == {'1'} :\n",
    "        print('yes')\n",
    "    else :\n",
    "        print('No')\n"
   ]
  },
  {
   "cell_type": "code",
   "execution_count": 68,
   "id": "35af9fcd",
   "metadata": {},
   "outputs": [
    {
     "name": "stdout",
     "output_type": "stream",
     "text": [
      "yes\n"
     ]
    }
   ],
   "source": [
    "bi_str(\"01010101010\")"
   ]
  },
  {
   "cell_type": "code",
   "execution_count": 62,
   "id": "45de51ce",
   "metadata": {},
   "outputs": [
    {
     "name": "stdout",
     "output_type": "stream",
     "text": [
      "Yes\n"
     ]
    }
   ],
   "source": [
    "string = \"01010101010\"\n",
    "if(string.count('0')+string.count('1')==len(string)):\n",
    "    print(\"Yes\")\n",
    "else:\n",
    "    print(\"No\")"
   ]
  },
  {
   "cell_type": "code",
   "execution_count": null,
   "id": "ac2a1283",
   "metadata": {},
   "outputs": [],
   "source": [
    "5. Write a Python program to find uncommon words from two Strings?"
   ]
  },
  {
   "cell_type": "code",
   "execution_count": 29,
   "id": "eb01bed6",
   "metadata": {},
   "outputs": [],
   "source": [
    "def uncommonwords(x,y):\n",
    "    x1 = x.split()\n",
    "    y1 = s.split()\n",
    "    count = {}\n",
    "    for i in x1:\n",
    "        count[i] = count.get(i,0)+1\n",
    "    for i in y1:\n",
    "        count[i] = count.get(i,0)+1\n",
    "    return[i for i in count if count[i]==1]"
   ]
  },
  {
   "cell_type": "code",
   "execution_count": 30,
   "id": "1e1c9dd1",
   "metadata": {},
   "outputs": [
    {
     "data": {
      "text/plain": [
       "['This',\n",
       " 'code',\n",
       " 'to',\n",
       " 'find',\n",
       " 'uncommon',\n",
       " 'eord',\n",
       " 'out',\n",
       " 'of',\n",
       " 'string',\n",
       " 'name',\n",
       " 'sudhanshu',\n",
       " 'kr']"
      ]
     },
     "execution_count": 30,
     "metadata": {},
     "output_type": "execute_result"
    }
   ],
   "source": [
    "uncommonwords('This is my code to find uncommon eord out of string','This is my code to find uncommon words')"
   ]
  },
  {
   "cell_type": "code",
   "execution_count": null,
   "id": "600938c7",
   "metadata": {},
   "outputs": [],
   "source": [
    "6. Write a Python to find all duplicate characters in string?"
   ]
  },
  {
   "cell_type": "code",
   "execution_count": 133,
   "id": "3b49782a",
   "metadata": {},
   "outputs": [
    {
     "name": "stdout",
     "output_type": "stream",
     "text": [
      "Duplicate characters b/w both the string is following :\n",
      "\n",
      "\n",
      "this is programme to find words\n"
     ]
    }
   ],
   "source": [
    "x='THIS is my programme to find uncommon words'\n",
    "v= 'This IS my1 programme to fIND common woRDs'\n",
    "print('Duplicate characters b/w both the string is following :')\n",
    "print('\\n')\n",
    "l = []\n",
    "i = 0\n",
    "x= x.lower()\n",
    "v= v.lower()\n",
    "x1 = x.split()\n",
    "v1 = v.split()\n",
    "while i <len(x1):\n",
    "    if x1[i] in v1:\n",
    "        l.append(x1[i])\n",
    "    i += 1\n",
    "print(' '.join(l))\n"
   ]
  },
  {
   "cell_type": "code",
   "execution_count": null,
   "id": "db1ec05c",
   "metadata": {},
   "outputs": [],
   "source": [
    "7. Write a Python Program to check if a string contains any special character?"
   ]
  },
  {
   "cell_type": "code",
   "execution_count": 14,
   "id": "ecf47202",
   "metadata": {},
   "outputs": [],
   "source": [
    "def spe_char(x):\n",
    "    i=0\n",
    "    s_ch = '!@_!#$%^&*()<>?/|}{~:]'\n",
    "    while i <len(x):\n",
    "        if x[i] in s_ch:\n",
    "            print('Yes special character ','\"',x[i],'\"','is present ')\n",
    "        else:\n",
    "            print('Special character not present ')\n",
    "        break"
   ]
  },
  {
   "cell_type": "code",
   "execution_count": 4,
   "id": "fec33291",
   "metadata": {},
   "outputs": [
    {
     "name": "stdout",
     "output_type": "stream",
     "text": [
      "Special character not present \n"
     ]
    }
   ],
   "source": [
    "spe_char('This is my code to check special character presence')"
   ]
  },
  {
   "cell_type": "code",
   "execution_count": 15,
   "id": "f95b7d18",
   "metadata": {},
   "outputs": [
    {
     "name": "stdout",
     "output_type": "stream",
     "text": [
      "Yes special character  \" @ \" is present \n"
     ]
    }
   ],
   "source": [
    "spe_char('@This is my code to check special character presence')"
   ]
  },
  {
   "cell_type": "code",
   "execution_count": 21,
   "id": "938f251f",
   "metadata": {},
   "outputs": [
    {
     "data": {
      "text/plain": [
       "['Learning', 'from']"
      ]
     },
     "execution_count": 21,
     "metadata": {},
     "output_type": "execute_result"
    }
   ],
   "source": [
    "UncommonWords(A,B)"
   ]
  },
  {
   "cell_type": "code",
   "execution_count": null,
   "id": "de00a5ff",
   "metadata": {},
   "outputs": [],
   "source": []
  }
 ],
 "metadata": {
  "kernelspec": {
   "display_name": "Python 3 (ipykernel)",
   "language": "python",
   "name": "python3"
  },
  "language_info": {
   "codemirror_mode": {
    "name": "ipython",
    "version": 3
   },
   "file_extension": ".py",
   "mimetype": "text/x-python",
   "name": "python",
   "nbconvert_exporter": "python",
   "pygments_lexer": "ipython3",
   "version": "3.9.7"
  }
 },
 "nbformat": 4,
 "nbformat_minor": 5
}
